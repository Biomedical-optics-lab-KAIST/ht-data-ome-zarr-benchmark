{
 "cells": [
  {
   "cell_type": "code",
   "execution_count": null,
   "metadata": {},
   "outputs": [],
   "source": [
    "import os\n",
    "from glob import glob\n",
    "import pandas as pd\n",
    "import matplotlib.pyplot as plt\n",
    "import numpy as np"
   ]
  },
  {
   "cell_type": "code",
   "execution_count": null,
   "metadata": {},
   "outputs": [],
   "source": [
    "# dataset information\n",
    "dataset_names = ['embryo', 'tissue_on', 'tissue_off']\n",
    "benchmark_count = 2\n",
    "# information\n",
    "compression_options = {\n",
    "    'gzip': (1,5,9),\n",
    "    'lzma': (1,5,9),\n",
    "    'bzip2': (1,5,9),\n",
    "    'zlib': (1,5,9),\n",
    "    'lz4': (1,),\n",
    "    'zstd': (1,11,22),\n",
    "    'blosc-zlib': (1,5,9),\n",
    "    'blosc-lz4': (1,5,9),\n",
    "    'blosc-zstd': (1,5,9),\n",
    "}\n",
    "#filter_options = ['none', 'Shuffle', 'FixedScaleOffset', 'FixedScaleOffset-Shuffle']\n",
    "filter_options = ['none', 'Shuffle', 'BitRound-14', 'BitRound-14-Shuffle']\n",
    "# color used: Paired_10\n",
    "filter_display_colors = {\n",
    "    'none': [(31/255, 120/255, 180/255), (99/255, 163/255, 204/255), (166/255, 206/255, 227/255)], # blue\n",
    "    'Shuffle': [(51/255, 160/255, 44/255), (115/255, 192/255, 91/255), (178/255, 223/255, 138/255)], # Green\n",
    "    'BitRound-14': [(227/255, 26/255, 28/255), (239/255, 90/255, 91/255), (251/255, 154/255, 153/255)], # Red\n",
    "    'BitRound-14-Shuffle': [(255/255, 127/255, 0/255), (254/255, 159/255, 56/255), (253/255, 191/255, 111/255)], # Orange\n",
    "    'FixedScaleOffset': [(227/255, 26/255, 28/255), (239/255, 90/255, 91/255), (251/255, 154/255, 153/255)], # Red\n",
    "    'FixedScaleOffset-Shuffle': [(255/255, 127/255, 0/255), (254/255, 159/255, 56/255), (253/255, 191/255, 111/255)], # Orange\n",
    "}"
   ]
  },
  {
   "cell_type": "markdown",
   "metadata": {},
   "source": [
    "1. Load tables\n",
    "\n",
    "Get the list of files w/ benchmark_count amount.\n",
    "Then read the files into tables and merge for each dataset name"
   ]
  },
  {
   "cell_type": "code",
   "execution_count": null,
   "metadata": {},
   "outputs": [],
   "source": [
    "\"\"\"\n",
    "Load all the table data and return a single table.\n",
    "\"\"\"\n",
    "def load_chunked_table(table_paths: list[str]) -> pd.DataFrame:\n",
    "    dfs = []\n",
    "    for idx, file in enumerate(table_paths):\n",
    "        df = pd.read_csv(file)\n",
    "        dfs.append(df)\n",
    "    whole_df = pd.concat(dfs)\n",
    "    return whole_df"
   ]
  },
  {
   "cell_type": "code",
   "execution_count": null,
   "metadata": {},
   "outputs": [],
   "source": [
    "table_dataset = dict()\n",
    "for name in dataset_names:\n",
    "    # load all tables\n",
    "    dfs = []\n",
    "    for idx in range(1, 1 + benchmark_count):\n",
    "        df = load_chunked_table(glob(f'./output/bench_{name}_8G*/compression_benchmark_{idx}.csv'))\n",
    "        df['index'] = idx\n",
    "        dfs.append(df)\n",
    "    whole_df = pd.concat(dfs)\n",
    "    # get everaged table\n",
    "    group_df = whole_df.groupby(['compression option', 'filter option'])\n",
    "    group_mean_df = group_df.mean()\n",
    "    group_mean_df.pop('index')\n",
    "    # save table\n",
    "    table_dataset[name] = group_mean_df"
   ]
  },
  {
   "cell_type": "markdown",
   "metadata": {},
   "source": [
    "## Estimate speed"
   ]
  },
  {
   "cell_type": "code",
   "execution_count": null,
   "metadata": {},
   "outputs": [],
   "source": [
    "from scipy.linalg import solve"
   ]
  },
  {
   "cell_type": "code",
   "execution_count": null,
   "metadata": {},
   "outputs": [],
   "source": [
    "a.shape"
   ]
  },
  {
   "cell_type": "code",
   "execution_count": null,
   "metadata": {},
   "outputs": [],
   "source": [
    "comp_key"
   ]
  },
  {
   "cell_type": "code",
   "execution_count": null,
   "metadata": {},
   "outputs": [],
   "source": [
    "arg_size"
   ]
  },
  {
   "cell_type": "code",
   "execution_count": null,
   "metadata": {},
   "outputs": [],
   "source": [
    "np.zeros((2,3)) @ np.zeros((3,4))"
   ]
  },
  {
   "cell_type": "code",
   "execution_count": null,
   "metadata": {},
   "outputs": [],
   "source": [
    "comp_idx"
   ]
  },
  {
   "cell_type": "code",
   "execution_count": null,
   "metadata": {},
   "outputs": [],
   "source": [
    "arg_size"
   ]
  },
  {
   "cell_type": "code",
   "execution_count": null,
   "metadata": {},
   "outputs": [],
   "source": [
    "comp_size = np.sum([len(deg) for deg in compression_options.values()])\n",
    "filt_size = 2 # len(filter_options)\n",
    "sp_size = len(table_dataset)\n",
    "\n",
    "arg_size = filt_size + comp_size * sp_size + 1 # one for the memory write time (sec/MiB)\n",
    "comb_size = (filt_size ** 2) * comp_size * sp_size\n",
    "a = np.zeros((comb_size,arg_size))\n",
    "b = np.zeros((comb_size,))\n",
    "\n",
    "comp_dict = dict()\n",
    "comb_idx = 0\n",
    "comp_idx = 0\n",
    "for name, df in table_dataset.items():\n",
    "    for comp_key, comp_degree in compression_options.items():\n",
    "        for d in comp_degree:\n",
    "            comp_name = f'{comp_key}-{d}'\n",
    "            for filt_name in filter_options:\n",
    "                a[comb_idx, 0] = filt_name.endswith('Shuffle')\n",
    "                a[comb_idx, 1] = filt_name.startswith('BitRound')\n",
    "                a[comb_idx, comp_idx + 2] = 1\n",
    "                a[comb_idx, -1] = 1/df.loc[(comp_name, filt_name), 'compression ratio']\n",
    "                b[comb_idx] = 2 ** 20/df.loc[(comp_name, filt_name), 'decompression speed (bytes/sec)'] # sec/MiB\n",
    "                comb_idx += 1\n",
    "            comp_idx += 1\n",
    "aa = a.T @ a\n",
    "ab = a.T @ b\n",
    "x = solve(aa, ab)\n",
    "\n",
    "        "
   ]
  },
  {
   "cell_type": "code",
   "execution_count": null,
   "metadata": {},
   "outputs": [],
   "source": [
    "x"
   ]
  },
  {
   "cell_type": "code",
   "execution_count": null,
   "metadata": {},
   "outputs": [],
   "source": [
    "ab"
   ]
  },
  {
   "cell_type": "code",
   "execution_count": null,
   "metadata": {},
   "outputs": [],
   "source": [
    "aa @ x"
   ]
  },
  {
   "cell_type": "code",
   "execution_count": null,
   "metadata": {},
   "outputs": [],
   "source": [
    "aa @ x - ab"
   ]
  },
  {
   "cell_type": "markdown",
   "metadata": {},
   "source": [
    "## Ranking"
   ]
  },
  {
   "cell_type": "code",
   "execution_count": null,
   "metadata": {},
   "outputs": [],
   "source": [
    "def rank_data(table_dataset : dict[str, pd.DataFrame], compression_options: dict[str, tuple[int]], filter_options: list[str]):\n",
    "    literal_comp_options = []\n",
    "    for comp, comp_degree in compression_options.items():\n",
    "        literal_comp_options += [f'{comp}-{d}' for d in comp_degree]\n",
    "    for name, df in table_dataset.items():\n",
    "        indices = [idx for idx in df.index if idx[0] in literal_comp_options and idx[1] in filter_options]\n",
    "        df_target = df.loc[indices]\n",
    "        for col_name in df_target.columns:\n",
    "            series = df_target[col_name]\n",
    "            sorted_result = series.sort_values(ascending = False)\n",
    "            print(f\"{name}, {col_name}: {sorted_result.index[:3]}\")"
   ]
  },
  {
   "cell_type": "code",
   "execution_count": null,
   "metadata": {},
   "outputs": [],
   "source": [
    "rank_data(table_dataset, compression_options, ['none'])"
   ]
  },
  {
   "cell_type": "markdown",
   "metadata": {},
   "source": [
    "## Visualization"
   ]
  },
  {
   "cell_type": "code",
   "execution_count": null,
   "metadata": {},
   "outputs": [],
   "source": [
    "def plot_data(table_dataset, compression_options, filter_options, filter_display_colors, col_name, save_dir = None, show_none_value = False,**kwargs):\n",
    "    for name, df in table_dataset.items():\n",
    "        fig, ax = plt.subplots()\n",
    "        ax.set_title(f\"{col_name} ({name})\")\n",
    "        ax.set(**kwargs)\n",
    "        x = np.zeros(len(filter_options))\n",
    "        tick_loc = []\n",
    "        tick_label = []\n",
    "        for comp_name, comp_degree in compression_options.items():\n",
    "            for d_idx, deg in enumerate(comp_degree):\n",
    "                comp_opt = f'{comp_name}-{deg}'\n",
    "                y = (df\n",
    "                     .loc[comp_opt]\n",
    "                     .loc[filter_options, col_name]\n",
    "                     .sort_values(ascending=False)\n",
    "                )\n",
    "                c = [filter_display_colors[filt_name][d_idx] for filt_name in y.index]\n",
    "                ax.bar(x, y, color=c)\n",
    "                tick_loc.append(x[0])\n",
    "                tick_label.append(comp_opt)\n",
    "                x += 1\n",
    "            x += 1\n",
    "        ax.set_xticks(tick_loc, tick_label, rotation=90)\n",
    "        ax.set_xlim(-1, tick_loc[-1] + 1)\n",
    "        if show_none_value:\n",
    "            y_val = df.loc[('none', 'none'), col_name]\n",
    "            ax.hlines(y_val, -1, tick_loc[-1] + 1, colors='black', linestyles='dashed')\n",
    "        if save_dir is not None:\n",
    "            fig.savefig(os.path.join(save_dir,f'{col_name.split('(')[0]}-{name}.svg'))\n"
   ]
  },
  {
   "cell_type": "code",
   "execution_count": null,
   "metadata": {},
   "outputs": [],
   "source": [
    "plot_data(table_dataset, compression_options, filter_options, filter_display_colors, 'compression ratio', save_dir='./figure', ylim = (1,6))"
   ]
  },
  {
   "cell_type": "code",
   "execution_count": null,
   "metadata": {},
   "outputs": [],
   "source": [
    "plot_data(table_dataset, compression_options, filter_options, filter_display_colors, 'compression speed (bytes/sec)', save_dir='./figure', show_none_value=True, yscale = 'log', ylim = (10**5,10**8.5))"
   ]
  },
  {
   "cell_type": "code",
   "execution_count": null,
   "metadata": {},
   "outputs": [],
   "source": [
    "plot_data(table_dataset, compression_options, filter_options, filter_display_colors, 'decompression speed (bytes/sec)', save_dir='./figure', show_none_value=True, yscale = 'log', ylim = (10**7,10**9.5))"
   ]
  }
 ],
 "metadata": {
  "kernelspec": {
   "display_name": "dm312",
   "language": "python",
   "name": "python3"
  },
  "language_info": {
   "codemirror_mode": {
    "name": "ipython",
    "version": 3
   },
   "file_extension": ".py",
   "mimetype": "text/x-python",
   "name": "python",
   "nbconvert_exporter": "python",
   "pygments_lexer": "ipython3",
   "version": "3.12.8"
  }
 },
 "nbformat": 4,
 "nbformat_minor": 2
}
