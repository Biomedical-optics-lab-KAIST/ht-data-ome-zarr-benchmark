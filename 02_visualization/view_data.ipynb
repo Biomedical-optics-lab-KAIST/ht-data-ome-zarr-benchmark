{
 "cells": [
  {
   "cell_type": "code",
   "execution_count": null,
   "metadata": {},
   "outputs": [],
   "source": [
    "from ome_zarr.reader import Reader\n",
    "from ome_zarr.io import parse_url"
   ]
  },
  {
   "cell_type": "code",
   "execution_count": null,
   "metadata": {},
   "outputs": [],
   "source": [
    "embryo_zarr_path = \"D:/embryo_data/zarr_arrays/230601.152354.round14.001.Group1.A1.T001P01.ome.zarr\""
   ]
  },
  {
   "cell_type": "code",
   "execution_count": null,
   "metadata": {},
   "outputs": [],
   "source": [
    "# embryo data\n",
    "reader = Reader(parse_url(embryo_zarr_path, mode = \"r\"))\n",
    "node = list(reader())[0]\n",
    "src_data = node.data[0]\n",
    "\n",
    "src_data"
   ]
  }
 ],
 "metadata": {
  "kernelspec": {
   "display_name": "dm312",
   "language": "python",
   "name": "python3"
  },
  "language_info": {
   "codemirror_mode": {
    "name": "ipython",
    "version": 3
   },
   "file_extension": ".py",
   "mimetype": "text/x-python",
   "name": "python",
   "nbconvert_exporter": "python",
   "pygments_lexer": "ipython3",
   "version": "3.12.8"
  }
 },
 "nbformat": 4,
 "nbformat_minor": 2
}
