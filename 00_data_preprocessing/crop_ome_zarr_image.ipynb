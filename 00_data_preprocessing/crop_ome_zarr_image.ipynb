{
 "cells": [
  {
   "cell_type": "code",
   "execution_count": null,
   "metadata": {},
   "outputs": [],
   "source": [
    "import numpy as np\n",
    "import dask.array as da\n",
    "import zarr\n",
    "from numcodecs import Blosc\n",
    "from ome_zarr.io import parse_url\n",
    "from ome_zarr.reader import Reader\n",
    "from ome_zarr.writer import write_multiscales_metadata\n",
    "import ome_zarr.format\n",
    "src_directory = \"D:/embryo_data/zarr_arrays/230601.152354.round14.001.Group1.A1.T001P01.ome.zarr\"\n",
    "save_directory = \"D:/embryo_data/zarr_arrays/230601.152354.round14.001.Group1.A1.T001P01_cropped.ome.zarr\"\n"
   ]
  },
  {
   "cell_type": "code",
   "execution_count": null,
   "metadata": {},
   "outputs": [],
   "source": [
    "# load data\n",
    "reader = Reader(parse_url(src_directory))\n",
    "node = list(reader())[0]\n",
    "src_data = node.data[0]"
   ]
  },
  {
   "cell_type": "code",
   "execution_count": null,
   "metadata": {},
   "outputs": [],
   "source": [
    "src_data[1,0,0,-5,-5].compute()\n",
    "# y=5:-5 x = 5:-5\n",
    "\n",
    "# raveled_indices = da.argwhere(src_data > 2.2)\n",
    "# unraveled_indices.unravel_index(raveled_indices, src_data.shape)"
   ]
  },
  {
   "cell_type": "code",
   "execution_count": null,
   "metadata": {},
   "outputs": [],
   "source": [
    "cropped_src_data = src_data[:,:,:,5:-5,5:-5]\n",
    "axes = node.metadata[\"axes\"]\n",
    "name = node.metadata[\"name\"]\n",
    "coord = node.metadata['coordinateTransformations'][0]"
   ]
  },
  {
   "cell_type": "code",
   "execution_count": null,
   "metadata": {},
   "outputs": [],
   "source": [
    "# save data\n",
    "data_group = zarr.open_group(save_directory, mode='w')\n",
    "zarray_data = data_group.create_dataset(\n",
    "    '0',\n",
    "    shape=cropped_src_data.shape,\n",
    "    chunks=(1,1,32,256,256),\n",
    "    dtype=cropped_src_data.dtype,\n",
    "    exact = True,\n",
    "    compressor=Blosc(cname='zstd', clevel = 9, shuffle = 2),\n",
    "    filters = [],\n",
    "    dimension_separator = '/'\n",
    ")\n",
    "write_multiscales_metadata(\n",
    "    group = data_group,\n",
    "    datasets = [{\n",
    "        \"path\": \"0\",\n",
    "        \"coordinateTransformations\": coord\n",
    "    }],\n",
    "    fmt = ome_zarr.format.FormatV04(),\n",
    "    name = name,\n",
    "    axes = axes\n",
    ")\n",
    "\n",
    "cropped_src_data.store(zarray_data, lock=False, compute=True)"
   ]
  }
 ],
 "metadata": {
  "kernelspec": {
   "display_name": "dm312",
   "language": "python",
   "name": "python3"
  },
  "language_info": {
   "codemirror_mode": {
    "name": "ipython",
    "version": 3
   },
   "file_extension": ".py",
   "mimetype": "text/x-python",
   "name": "python",
   "nbconvert_exporter": "python",
   "pygments_lexer": "ipython3",
   "version": "3.12.8"
  }
 },
 "nbformat": 4,
 "nbformat_minor": 2
}
