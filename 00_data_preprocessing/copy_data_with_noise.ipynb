{
 "cells": [
  {
   "cell_type": "code",
   "execution_count": null,
   "metadata": {},
   "outputs": [],
   "source": [
    "import zarr\n",
    "import dask.array as da"
   ]
  },
  {
   "cell_type": "code",
   "execution_count": null,
   "metadata": {},
   "outputs": [],
   "source": [
    "def add_random_noise(input_zarr_path, output_zarr_path, noise_range=(-5e-5, 5e-5)):\n",
    "    \"\"\"\n",
    "    Reads a Zarr file, adds random noise within the given range, and writes to a new Zarr file.\n",
    "\n",
    "    Parameters:\n",
    "    - input_zarr_path: Path to the input Zarr file.\n",
    "    - output_zarr_path: Path to the output Zarr file.\n",
    "    - noise_range: Tuple (min_noise, max_noise) defining the range of random noise.\n",
    "    \"\"\"\n",
    "    # Open the input Zarr file\n",
    "    input_zarr = zarr.open(input_zarr_path, mode='r')\n",
    "\n",
    "    # Create a new Zarr file to store the modified data\n",
    "    output_zarr = zarr.open(output_zarr_path, mode='w')\n",
    "\n",
    "    # Iterate over all datasets in the input Zarr file\n",
    "    for array_name in input_zarr.array_keys():\n",
    "        data = input_zarr[array_name][:]\n",
    "        \n",
    "        # Generate random noise\n",
    "        noise = da.random.uniform(noise_range[0], noise_range[1], data.shape)\n",
    "        \n",
    "        # Add noise to the data\n",
    "        noisy_data = data + noise\n",
    "        \n",
    "        # Store the noisy data in the output Zarr file\n",
    "        output_zarr.create_dataset(array_name, data=noisy_data, chunks=True, overwrite=True)\n",
    "\n",
    "    print(f\"Modified data with noise saved to {output_zarr_path}\")\n"
   ]
  },
  {
   "cell_type": "code",
   "execution_count": null,
   "metadata": {},
   "outputs": [],
   "source": [
    "# Execution\n",
    "input_zarr_file = \"input.zarr\"   # Change to your input Zarr file path\n",
    "output_zarr_file = \"output.zarr\" # Change to your desired output Zarr file path\n",
    "\n",
    "add_random_noise(input_zarr_file, output_zarr_file)"
   ]
  }
 ],
 "metadata": {
  "kernelspec": {
   "display_name": ".venv",
   "language": "python",
   "name": "python3"
  },
  "language_info": {
   "name": "python",
   "version": "3.12.9"
  }
 },
 "nbformat": 4,
 "nbformat_minor": 2
}
