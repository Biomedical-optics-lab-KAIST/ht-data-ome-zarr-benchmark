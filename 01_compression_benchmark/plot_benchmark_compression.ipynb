{
 "cells": [
  {
   "cell_type": "code",
   "execution_count": 138,
   "metadata": {},
   "outputs": [],
   "source": [
    "import os\n",
    "import glob\n",
    "import pandas as pd\n",
    "import matplotlib.pyplot as plt\n",
    "import numpy as np"
   ]
  },
  {
   "cell_type": "code",
   "execution_count": 74,
   "metadata": {},
   "outputs": [],
   "source": [
    "src_files = glob.glob('./output/bench_embryo_8G/*.csv')\n",
    "dst_dir = './output/bench_embryo_8G'"
   ]
  },
  {
   "cell_type": "code",
   "execution_count": 75,
   "metadata": {},
   "outputs": [],
   "source": [
    "dfs = []\n",
    "for idx, file in enumerate(src_files):\n",
    "    df = pd.read_csv(file)\n",
    "    df['index'] = idx\n",
    "    dfs.append(df)\n",
    "whole_df = pd.concat(dfs)"
   ]
  },
  {
   "cell_type": "code",
   "execution_count": 76,
   "metadata": {},
   "outputs": [],
   "source": [
    "grouped = whole_df.groupby(['compression option', 'filter option'])"
   ]
  },
  {
   "cell_type": "code",
   "execution_count": null,
   "metadata": {},
   "outputs": [],
   "source": [
    "grouped_mean = grouped.mean()\n",
    "grouped_mean.pop('index')\n",
    "grouped_mean"
   ]
  },
  {
   "cell_type": "markdown",
   "metadata": {},
   "source": [
    "## various filter display"
   ]
  },
  {
   "cell_type": "code",
   "execution_count": 128,
   "metadata": {},
   "outputs": [],
   "source": [
    "no_filter_rst = grouped_mean.loc[[idx for idx in grouped_mean.index if idx[1] == 'none' and len(idx[0].split('-')) < 4]]\n",
    "scale_filter_rst = grouped_mean.loc[[idx for idx in grouped_mean.index if idx[1] == 'FixedScaleOffset' and len(idx[0].split('-')) < 4]]\n",
    "scale_shuffle_filter_rst = grouped_mean.loc[[idx for idx in grouped_mean.index if idx[1] == 'FixedScaleOffset-Shuffle' and len(idx[0].split('-')) < 4]]\n",
    "\n",
    "no_filter_rst['compression'] = [idx[0] for idx in no_filter_rst.index]\n",
    "no_filter_rst = no_filter_rst.set_index('compression')\n",
    "scale_filter_rst['compression'] = [idx[0] for idx in scale_filter_rst.index]\n",
    "scale_filter_rst = scale_filter_rst.set_index('compression')\n",
    "scale_shuffle_filter_rst['compression'] = [idx[0] for idx in scale_shuffle_filter_rst.index]\n",
    "scale_shuffle_filter_rst = scale_shuffle_filter_rst.set_index('compression')"
   ]
  },
  {
   "cell_type": "code",
   "execution_count": null,
   "metadata": {},
   "outputs": [],
   "source": [
    "# compression ratio\n",
    "comp_indices = ['blosc-lz4','blosc-zstd','blosc-zlib','lz4','zstd','zlib','gzip','lzma','bzip2']\n",
    "comp_indices.reverse()\n",
    "reordered_index = []\n",
    "tick_label = []\n",
    "for comp in comp_indices:\n",
    "    comp_index = [idx for idx in no_filter_rst.index if idx.startswith(comp) ]\n",
    "    comp_index.sort(key = lambda idx: int(idx.split('-')[-1]),reverse=True)\n",
    "    comp_tick = [f'{comp} ({idx.rsplit('-',1)[-1]})' for idx in comp_index]\n",
    "    reordered_index += comp_index\n",
    "    tick_label += comp_tick\n",
    "\n",
    "comp_means = {\n",
    "    'FixedScaleOffset + Shuffle': scale_shuffle_filter_rst['compression ratio'][reordered_index],\n",
    "    'FixedScaleOffset': scale_filter_rst['compression ratio'][reordered_index],\n",
    "    'No filter': no_filter_rst['compression ratio'][reordered_index],\n",
    "}\n",
    "\n",
    "fig, ax = plt.subplots()\n",
    "height = 0.25\n",
    "x = np.arange(len(tick_label))\n",
    "for multiplier, (label, measure) in enumerate(comp_means.items()):\n",
    "    offset = 0 # height * multiplier\n",
    "    rects = ax.barh(x + offset, measure, height = height, label = label)\n",
    "    #ax.bar_label(rects, padding=3)\n",
    "ax.set_yticks(x + height,tick_label)\n",
    "ax.set_ylim(-1,len(tick_label)+ 3)\n",
    "ax.set_xlim(1,6)\n",
    "ax.legend(loc='upper left', ncols=3)\n",
    "fig.savefig(os.path.join(dst_dir,'compression ratio.svg'))\n",
    "plt.show()"
   ]
  },
  {
   "cell_type": "code",
   "execution_count": null,
   "metadata": {},
   "outputs": [],
   "source": [
    "comp_means = {\n",
    "    'No filter': no_filter_rst['compression speed (bytes/sec)'][reordered_index],\n",
    "    'FixedScaleOffset': scale_filter_rst['compression speed (bytes/sec)'][reordered_index],\n",
    "    'FixedScaleOffset + Shuffle': scale_shuffle_filter_rst['compression speed (bytes/sec)'][reordered_index],\n",
    "}\n",
    "\n",
    "fig, ax = plt.subplots()\n",
    "height = 0.25\n",
    "plain_value = no_filter_rst.loc['none','compression speed (bytes/sec)']\n",
    "x = np.arange(len(tick_label))\n",
    "for multiplier, (label, measure) in enumerate(comp_means.items()):\n",
    "    offset = 0 # height * multiplier\n",
    "    rects = ax.barh(x + offset, measure, height = height, label = label)\n",
    "    #ax.bar_label(rects, padding=3)\n",
    "ax.set_yticks(x + height,tick_label)\n",
    "ax.set_ylim(-1,len(tick_label)+ 3)\n",
    "#ax.axvline(plain_value, color='r')\n",
    "# ax.set_xlim(1,6)\n",
    "ax.legend(loc='upper left', ncols=3)\n",
    "fig.savefig(os.path.join(dst_dir,'compression speed.svg'))\n",
    "plt.show()"
   ]
  },
  {
   "cell_type": "code",
   "execution_count": null,
   "metadata": {},
   "outputs": [],
   "source": [
    "comp_means = {\n",
    "    'No filter': no_filter_rst['decompression speed (bytes/sec)'][reordered_index],\n",
    "    'FixedScaleOffset': scale_filter_rst['decompression speed (bytes/sec)'][reordered_index],\n",
    "    'FixedScaleOffset + Shuffle': scale_shuffle_filter_rst['decompression speed (bytes/sec)'][reordered_index],\n",
    "}\n",
    "\n",
    "fig, ax = plt.subplots()\n",
    "height = 0.25\n",
    "plain_value = no_filter_rst.loc['none','decompression speed (bytes/sec)']\n",
    "x = np.arange(len(tick_label))\n",
    "for multiplier, (label, measure) in enumerate(comp_means.items()):\n",
    "    offset = 0 # height * multiplier\n",
    "    rects = ax.barh(x + offset, measure, height = height, label = label)\n",
    "    #ax.bar_label(rects, padding=3)\n",
    "ax.set_yticks(x + height,tick_label)\n",
    "ax.set_ylim(-1,len(tick_label)+ 3)\n",
    "#ax.axvline(plain_value, color='r')\n",
    "# ax.set_xlim(1,6)\n",
    "ax.legend(loc='upper left', ncols=3)\n",
    "fig.savefig(os.path.join(dst_dir,'decompression speed.svg'))\n",
    "plt.show()"
   ]
  }
 ],
 "metadata": {
  "kernelspec": {
   "display_name": "dm312",
   "language": "python",
   "name": "python3"
  },
  "language_info": {
   "codemirror_mode": {
    "name": "ipython",
    "version": 3
   },
   "file_extension": ".py",
   "mimetype": "text/x-python",
   "name": "python",
   "nbconvert_exporter": "python",
   "pygments_lexer": "ipython3",
   "version": "3.12.8"
  }
 },
 "nbformat": 4,
 "nbformat_minor": 2
}
